{
 "cells": [
  {
   "cell_type": "markdown",
   "metadata": {},
   "source": [
    "# Baseline with MSD timbre data\n",
    "\n",
    "We use MSD timbre data as a baseline, agreggating through time and keeping the following statistics (in this order):\n",
    "\n",
    "* Mean\n",
    "* Max\n",
    "* Variance\n",
    "* L2-norm\n",
    "\n",
    "Since the MSD timbre data is a set of 12 coefficients per time frame, and we are using statistic, each aggregated song will be represented as a $12 * 4 = 48$ dimensional vector."
   ]
  },
  {
   "cell_type": "code",
   "execution_count": 12,
   "metadata": {
    "collapsed": false
   },
   "outputs": [],
   "source": [
    "import h5py\n",
    "import os\n",
    "import numpy as np\n",
    "import pandas as pd\n",
    "import pickle\n",
    "from tqdm import tqdm\n",
    "\n",
    "MSD_DIR = \"/mnt/shared/deep_learning/onieto/msd/msd/orig_data/\"\n",
    "SUBSET_DICT = {\"test\": \"../data/items_index_test_model_929-pred_16_multi2deT.tsv\",\n",
    "               \"train\": \"../data/items_index_train_model_929-pred_16_multi2deT.tsv\",\n",
    "               \"val\": \"../data/items_index_val_model_929-pred_16_multi2deT.tsv\"}"
   ]
  },
  {
   "cell_type": "code",
   "execution_count": 8,
   "metadata": {
    "collapsed": false
   },
   "outputs": [],
   "source": [
    "def path_from_trackid(trackid):\n",
    "    \"\"\"\n",
    "    Returns the typical path, with the letters[2-3-4]\n",
    "    of the trackid (starting at 0), hence a song with\n",
    "    trackid: TRABC1839DQL4H... will have path:\n",
    "    A/B/C/TRABC1839DQL4H....h5\n",
    "    \"\"\"\n",
    "    p = os.path.join(trackid[2], trackid[3])\n",
    "    p = os.path.join(p, trackid[4])\n",
    "    p = os.path.join(p, trackid + '.h5')\n",
    "    return p\n",
    "\n",
    "def aggregate_track(trackid):\n",
    "    f = h5py.File(os.path.join(MSD_DIR, path_from_trackid(trackid)), \"r\")\n",
    "    timbre = f[\"analysis\"][\"segments_timbre\"]\n",
    "    \n",
    "    # Aggregate Mean, Max, Variance, and L2-Norm (in this order)\n",
    "    agg = np.mean(timbre, axis=0)\n",
    "    agg = np.concatenate((agg, np.max(timbre, axis=0)))\n",
    "    agg = np.concatenate((agg, np.var(timbre, axis=0)))\n",
    "    agg = np.concatenate((agg, np.linalg.norm(timbre, axis=0, ord=2)))\n",
    "    \n",
    "    return agg"
   ]
  },
  {
   "cell_type": "code",
   "execution_count": 9,
   "metadata": {
    "collapsed": false
   },
   "outputs": [
    {
     "name": "stderr",
     "output_type": "stream",
     "text": [
      "  0%|          | 9/15863 [00:00<03:09, 83.55it/s]"
     ]
    },
    {
     "name": "stdout",
     "output_type": "stream",
     "text": [
      "Computing {}... test\n"
     ]
    },
    {
     "name": "stderr",
     "output_type": "stream",
     "text": [
      "100%|██████████| 15863/15863 [15:06<00:00, 17.50it/s] \n"
     ]
    },
    {
     "name": "stdout",
     "output_type": "stream",
     "text": [
      "Computing {}... train\n"
     ]
    },
    {
     "name": "stderr",
     "output_type": "stream",
     "text": [
      "100%|██████████| 115839/115839 [1:56:20<00:00, 16.59it/s]  \n"
     ]
    },
    {
     "name": "stdout",
     "output_type": "stream",
     "text": [
      "Computing {}... val\n"
     ]
    },
    {
     "name": "stderr",
     "output_type": "stream",
     "text": [
      "100%|██████████| 15657/15657 [15:41<00:00, 16.64it/s]\n"
     ]
    }
   ],
   "source": [
    "# Main loop\n",
    "missing_tracks = []\n",
    "for key in SUBSET_DICT.keys():\n",
    "    print(\"Computing {}...\", key)\n",
    "    df = pd.read_csv(SUBSET_DICT[key], sep=\"\\t\", header=None)\n",
    "    aggs = []\n",
    "    for i, row in tqdm(df.iterrows(), total=len(df)):\n",
    "        try:\n",
    "            aggs.append(aggregate_track(row[0]))\n",
    "        except OSError:\n",
    "            missing_tracks.append(row[0])\n",
    "            aggs.append(np.zeros(48))\n",
    "    np.save(\"msd_agg_{}.npy\".format(key), np.asarray(aggs))"
   ]
  },
  {
   "cell_type": "code",
   "execution_count": 55,
   "metadata": {
    "collapsed": false
   },
   "outputs": [
    {
     "data": {
      "text/html": [
       "<div>\n",
       "<table border=\"1\" class=\"dataframe\">\n",
       "  <thead>\n",
       "    <tr style=\"text-align: right;\">\n",
       "      <th></th>\n",
       "      <th>0</th>\n",
       "    </tr>\n",
       "  </thead>\n",
       "  <tbody>\n",
       "    <tr>\n",
       "      <th>0</th>\n",
       "      <td>TRBGAEE128F145E8B3</td>\n",
       "    </tr>\n",
       "    <tr>\n",
       "      <th>1</th>\n",
       "      <td>TRZVVWH128F9316856</td>\n",
       "    </tr>\n",
       "    <tr>\n",
       "      <th>2</th>\n",
       "      <td>TRWZDKB128F149A30F</td>\n",
       "    </tr>\n",
       "    <tr>\n",
       "      <th>3</th>\n",
       "      <td>TRGJUTR128F14872C4</td>\n",
       "    </tr>\n",
       "    <tr>\n",
       "      <th>4</th>\n",
       "      <td>TRGGMIX128F4263396</td>\n",
       "    </tr>\n",
       "  </tbody>\n",
       "</table>\n",
       "</div>"
      ],
      "text/plain": [
       "                    0\n",
       "0  TRBGAEE128F145E8B3\n",
       "1  TRZVVWH128F9316856\n",
       "2  TRWZDKB128F149A30F\n",
       "3  TRGJUTR128F14872C4\n",
       "4  TRGGMIX128F4263396"
      ]
     },
     "execution_count": 55,
     "metadata": {},
     "output_type": "execute_result"
    }
   ],
   "source": [
    "df = pd.read_csv(SUBSET_DICT[\"test\"], sep=\"\\t\", header=None)\n",
    "df.head()"
   ]
  },
  {
   "cell_type": "code",
   "execution_count": 17,
   "metadata": {
    "collapsed": false
   },
   "outputs": [],
   "source": [
    "with open(\"msd_agg_missing_trackids.txt\", \"w\") as f:\n",
    "    f.write('\\n'.join(missing_tracks))"
   ]
  }
 ],
 "metadata": {
  "kernelspec": {
   "display_name": "Python 3",
   "language": "python",
   "name": "python3"
  },
  "language_info": {
   "codemirror_mode": {
    "name": "ipython",
    "version": 3
   },
   "file_extension": ".py",
   "mimetype": "text/x-python",
   "name": "python",
   "nbconvert_exporter": "python",
   "pygments_lexer": "ipython3",
   "version": "3.6.0"
  }
 },
 "nbformat": 4,
 "nbformat_minor": 2
}
