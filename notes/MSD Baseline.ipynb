{
 "cells": [
  {
   "cell_type": "markdown",
   "metadata": {},
   "source": [
    "# Baseline with MSD timbre data\n",
    "\n",
    "We use MSD timbre data as a baseline, agreggating through time and keeping the following statistics (in this order):\n",
    "\n",
    "* Mean\n",
    "* Max\n",
    "* Variance\n",
    "* L2-norm\n",
    "\n",
    "Since the MSD timbre data is a set of 12 coefficients per time frame, and we are using statistic, each aggregated song will be represented as a $12 * 4 = 48$ dimensional vector."
   ]
  },
  {
   "cell_type": "code",
   "execution_count": 45,
   "metadata": {
    "collapsed": false
   },
   "outputs": [],
   "source": [
    "import h5py\n",
    "import os\n",
    "import numpy as np\n",
    "import pandas as pd\n",
    "\n",
    "MSD_DIR = \"/mnt/shared/deep_learning/onieto/msd/msd/orig_data/\"\n",
    "SUBSET_DICT = {\"test\": \"../data/items_index_test_multi2deA2.tsv\",\n",
    "               \"train\": \"../data/items_index_train_multi2deA2.tsv\",\n",
    "               \"val\": \"../data/items_index_val_multi2deA2.tsv\"}"
   ]
  },
  {
   "cell_type": "code",
   "execution_count": 44,
   "metadata": {
    "collapsed": false
   },
   "outputs": [],
   "source": [
    "def path_from_trackid(trackid):\n",
    "    \"\"\"\n",
    "    Returns the typical path, with the letters[2-3-4]\n",
    "    of the trackid (starting at 0), hence a song with\n",
    "    trackid: TRABC1839DQL4H... will have path:\n",
    "    A/B/C/TRABC1839DQL4H....h5\n",
    "    \"\"\"\n",
    "    p = os.path.join(trackid[2], trackid[3])\n",
    "    p = os.path.join(p, trackid[4])\n",
    "    p = os.path.join(p, trackid + '.h5')\n",
    "    return p\n",
    "\n",
    "def aggregate_track(track_uid):\n",
    "    f = h5py.File(os.path.join(MSD_DIR, path_from_trackid(track_uid)), \"r\")\n",
    "    timbre = f[\"analysis\"][\"segments_timbre\"]\n",
    "    \n",
    "    # Aggregate Mean, Max, Variance, and L2-Norm (in this order)\n",
    "    agg = np.mean(timbre, axis=0)\n",
    "    agg = np.concatenate((agg, np.max(timbre, axis=0)))\n",
    "    agg = np.concatenate((agg, np.var(timbre, axis=0)))\n",
    "    agg = np.concatenate((agg, np.linalg.norm(timbre, axis=0, ord=2)))\n",
    "    \n",
    "    return agg"
   ]
  },
  {
   "cell_type": "code",
   "execution_count": null,
   "metadata": {
    "collapsed": false
   },
   "outputs": [],
   "source": [
    "# Main loop\n",
    "for key in SUBSET_DICT:\n",
    "    df = pd.read_csv(SUBSET_DICT[key], sep=\"\\t\", header=None)\n",
    "    aggs = []\n",
    "    for i, row in df.iterrows():\n",
    "        aggs.append(aggregate_track(row[0]))\n",
    "    np.save(\"msd_agg_{}.npy\".format(key), np.asarray(aggs))"
   ]
  }
 ],
 "metadata": {
  "kernelspec": {
   "display_name": "Python 3",
   "language": "python",
   "name": "python3"
  },
  "language_info": {
   "codemirror_mode": {
    "name": "ipython",
    "version": 3
   },
   "file_extension": ".py",
   "mimetype": "text/x-python",
   "name": "python",
   "nbconvert_exporter": "python",
   "pygments_lexer": "ipython3",
   "version": "3.6.0"
  }
 },
 "nbformat": 4,
 "nbformat_minor": 2
}
